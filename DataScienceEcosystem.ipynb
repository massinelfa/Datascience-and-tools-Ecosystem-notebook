{
 "cells": [
  {
   "cell_type": "markdown",
   "id": "58db1c3e-57c7-4ab7-b832-39e38209edff",
   "metadata": {},
   "source": [
    "# Data Science Tools and Ecosystem\n"
   ]
  },
  {
   "cell_type": "markdown",
   "id": "bbc074e6-2bb5-49b9-857d-1b9d01ac25de",
   "metadata": {
    "tags": []
   },
   "source": [
    "## In this notebook, Data Science Tools and Ecosystem are summarized."
   ]
  },
  {
   "cell_type": "markdown",
   "id": "3882d889-2dd7-440a-8759-f0db4b61f278",
   "metadata": {},
   "source": [
    "### **Objectives:**\n",
    "\n",
    "- List popular languages for Data Science\n",
    "- Introduce common libraries used in Data Science\n",
    "- Demonstrate usage of Markdown cells in Jupyter Notebook\n",
    "- Create Markdown tables and lists\n"
   ]
  },
  {
   "cell_type": "markdown",
   "id": "456806d3-5b36-474c-9875-ff5c37212149",
   "metadata": {
    "tags": []
   },
   "source": [
    "### Some of the popular languages that Data Scientists use are:\n",
    "1. Python\n",
    "2. R\n",
    "3. SQL\n",
    "4. Julia"
   ]
  },
  {
   "cell_type": "markdown",
   "id": "500fbf77-2ada-4036-a326-f4c8a5febf4d",
   "metadata": {},
   "source": [
    "### Some of the commonly used libraries used by Data Scientists include:\n",
    "1. Pandas\n",
    "2. NumPy\n",
    "3. Scikit-learn\n"
   ]
  },
  {
   "cell_type": "markdown",
   "id": "f9c1280d-b1a3-4aff-8141-750f375df3e5",
   "metadata": {},
   "source": [
    "### table of Data Science tools\n",
    "| Data Science Tools |\n",
    "|--------------------|\n",
    "| Jupyter Notebook   |\n",
    "| RStudio            |\n",
    "| VS Code + Python   |\n"
   ]
  },
  {
   "cell_type": "markdown",
   "id": "eb3c0c7d-9590-404f-857d-0365557c63a9",
   "metadata": {},
   "source": [
    "### Below are a few examples of evaluating arithmetic expressions in Python\n"
   ]
  },
  {
   "cell_type": "code",
   "execution_count": 1,
   "id": "a55e8e79-7f80-47f5-9a84-b84e60611e7b",
   "metadata": {
    "tags": []
   },
   "outputs": [
    {
     "data": {
      "text/plain": [
       "17"
      ]
     },
     "execution_count": 1,
     "metadata": {},
     "output_type": "execute_result"
    }
   ],
   "source": [
    "#This a simple arithmetic expression to mutiply then add integers\n",
    "3*4+5"
   ]
  },
  {
   "cell_type": "code",
   "execution_count": 2,
   "id": "cafe304e-f46a-4f2b-bbe8-ed9f935f710a",
   "metadata": {
    "tags": []
   },
   "outputs": [
    {
     "name": "stdout",
     "output_type": "stream",
     "text": [
      "3.3333333333333335\n"
     ]
    }
   ],
   "source": [
    "#This will convert 200 minutes to hours by diving by 60\n",
    "minutes = 200\n",
    "hour = 60\n",
    "min_to_hours = minutes/hour\n",
    "print(min_to_hours)"
   ]
  },
  {
   "cell_type": "markdown",
   "id": "3e36ee86-8624-4af8-b0cc-b0e1dacdb519",
   "metadata": {},
   "source": [
    "## Author\n",
    "Massine"
   ]
  },
  {
   "cell_type": "code",
   "execution_count": null,
   "id": "8a7571d9-d86b-4b71-b007-4cf98f0565a6",
   "metadata": {},
   "outputs": [],
   "source": []
  }
 ],
 "metadata": {
  "kernelspec": {
   "display_name": "Python",
   "language": "python",
   "name": "conda-env-python-py"
  },
  "language_info": {
   "codemirror_mode": {
    "name": "ipython",
    "version": 3
   },
   "file_extension": ".py",
   "mimetype": "text/x-python",
   "name": "python",
   "nbconvert_exporter": "python",
   "pygments_lexer": "ipython3",
   "version": "3.7.12"
  }
 },
 "nbformat": 4,
 "nbformat_minor": 5
}
